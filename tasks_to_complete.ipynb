{
 "cells": [
  {
   "cell_type": "markdown",
   "metadata": {},
   "source": [
    "# Benchmarking large geospatial processes"
   ]
  },
  {
   "cell_type": "markdown",
   "metadata": {},
   "source": [
    "The goal is to show how the different geospatial processing methods compare to each other. We will be using a few technologies, levels of scale, and algorithms to compare/contrast. Each method and technology will be benchmarked for time to process on our current hardware (qgpu2)\n",
    "\n",
    "Technologies:\n",
    "- pandas?\n",
    "- distributed dask dataframes\n",
    "- Rapids cudf\n",
    "- dask cudf\n",
    "- Rapids cuspatial\n",
    "- omniscidb w/ ibis\n",
    "\n",
    "Scales:\n",
    "- Single address\n",
    "- A street\n",
    "- A neighborhood\n",
    "- A city\n",
    "\n",
    "Algorithms:\n",
    "- Filtering by bounding box\n",
    "- Point in polygon\n",
    "- Spatial sorting"
   ]
  },
  {
   "cell_type": "markdown",
   "metadata": {},
   "source": [
    "## Data pre-processing\n",
    "After decompression, there is 284 GB of XML encoded data. The goal is to get this into parquet so we can use our algorithms."
   ]
  },
  {
   "cell_type": "markdown",
   "metadata": {},
   "source": [
    "## pandas\n",
    "Show at what level pandas breaks down"
   ]
  },
  {
   "cell_type": "markdown",
   "metadata": {},
   "source": [
    "## dask\n",
    "Get a jupyterhub deploy figured out for internal quansight use\n",
    "Use several of the algorithms created for Datum"
   ]
  },
  {
   "cell_type": "markdown",
   "metadata": {},
   "source": [
    "## cudf\n",
    "Modify datum algorithms to work with dask"
   ]
  },
  {
   "cell_type": "markdown",
   "metadata": {},
   "source": [
    "## omniscidb w/ ibis\n",
    "Load data into omniscidb, connect to ibis\n",
    "Modify algorithms to work with ibis"
   ]
  },
  {
   "cell_type": "code",
   "execution_count": null,
   "metadata": {},
   "outputs": [],
   "source": []
  }
 ],
 "metadata": {
  "kernelspec": {
   "display_name": "Python 3",
   "language": "python",
   "name": "python3"
  },
  "language_info": {
   "codemirror_mode": {
    "name": "ipython",
    "version": 3
   },
   "file_extension": ".py",
   "mimetype": "text/x-python",
   "name": "python",
   "nbconvert_exporter": "python",
   "pygments_lexer": "ipython3",
   "version": "3.7.3"
  }
 },
 "nbformat": 4,
 "nbformat_minor": 4
}
